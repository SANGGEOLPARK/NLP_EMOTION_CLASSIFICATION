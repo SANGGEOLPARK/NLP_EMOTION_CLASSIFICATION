{
 "cells": [
  {
   "cell_type": "code",
   "execution_count": null,
   "metadata": {
    "colab": {
     "base_uri": "https://localhost:8080/"
    },
    "id": "XelZ5PDY2IU-",
    "outputId": "a3b9fee7-15c0-42ff-be2a-db343ec8fd5c"
   },
   "outputs": [
    {
     "name": "stdout",
     "output_type": "stream",
     "text": [
      "Mounted at /content/drive\n"
     ]
    }
   ],
   "source": [
    "from google.colab import drive\n",
    "drive.mount('/content/drive')"
   ]
  },
  {
   "cell_type": "code",
   "execution_count": null,
   "metadata": {
    "colab": {
     "base_uri": "https://localhost:8080/"
    },
    "id": "2DkM5fDi2hgQ",
    "outputId": "fe6f8fa7-4bdd-40fe-c456-0f902b8e4381"
   },
   "outputs": [
    {
     "name": "stdout",
     "output_type": "stream",
     "text": [
      "gzip: /content/drive/MyDrive/EmotionLines_friends_annotation.tar.gz: No such file or directory\n"
     ]
    }
   ],
   "source": [
    "#본인 구글드라이브에 EmotionLines_friends_annotation.tar.gz(캐글) 를 넣어놈\n",
    "!gzip -d /content/drive/MyDrive/EmotionLines_friends_annotation.tar.gz"
   ]
  },
  {
   "cell_type": "code",
   "execution_count": null,
   "metadata": {
    "colab": {
     "base_uri": "https://localhost:8080/"
    },
    "id": "hbciHLhi2hkz",
    "outputId": "3b8030d2-b581-465b-97af-a40e7896b67a"
   },
   "outputs": [
    {
     "name": "stdout",
     "output_type": "stream",
     "text": [
      "EmotionLines/Friends/friends_train.json\n",
      "EmotionLines/Friends/friends_dev.json\n",
      "EmotionLines/Friends/friends_test.json\n",
      "EmotionLines/README\n"
     ]
    }
   ],
   "source": [
    "!tar xvf /content/drive/MyDrive/EmotionLines_friends_annotation.tar"
   ]
  },
  {
   "cell_type": "code",
   "execution_count": null,
   "metadata": {
    "id": "unf7P41V_Bbg"
   },
   "outputs": [],
   "source": [
    "import tensorflow as tf\n",
    "import torch\n",
    "\n",
    "\n",
    "import pandas as pd\n",
    "import numpy as np\n",
    "import random\n",
    "import time\n",
    "import datetime\n",
    "import pickle\n",
    "import os\n",
    "import json\n",
    "import pandas as pd\n",
    "import numpy as np\n",
    "from tensorflow.keras.preprocessing.sequence import pad_sequences\n",
    "from tensorflow.keras.preprocessing.text import Tokenizer\n",
    "import keras\n",
    "import sys\n",
    "import pickle\n",
    "import re\n",
    "import time\n",
    "import warnings\n",
    "\n",
    "from sklearn.feature_extraction.text import CountVectorizer\n",
    "from sklearn.feature_extraction.text import TfidfTransformer\n",
    "from sklearn.feature_extraction.text import TfidfVectorizer\n",
    "\n",
    "from sklearn.pipeline import Pipeline\n",
    "from sklearn.ensemble import GradientBoostingClassifier\n",
    "from sklearn.naive_bayes import MultinomialNB\n",
    "from sklearn.linear_model import LogisticRegression\n",
    "\n",
    "from sklearn.model_selection import GridSearchCV\n",
    "from sklearn.model_selection import StratifiedKFold\n",
    "\n",
    "from sklearn.neighbors import KNeighborsClassifier\n",
    "from sklearn.svm import SVC\n",
    "from sklearn.tree import DecisionTreeClassifier\n",
    "from sklearn.ensemble import RandomForestClassifier\n",
    "\n",
    "from sklearn.model_selection import train_test_split, cross_val_score,learning_curve\n",
    "from sklearn import metrics\n",
    "from sklearn.metrics import classification_report, f1_score, accuracy_score, confusion_matrix\n"
   ]
  },
  {
   "cell_type": "code",
   "execution_count": null,
   "metadata": {
    "id": "hNThGVuD32Wx"
   },
   "outputs": [],
   "source": [
    "def jsonToDf(file_name):\n",
    "  with open(file_name, encoding = 'utf-8', mode = 'r') as file:\n",
    "    json_array = json.load(file)\n",
    "  \n",
    "  result = pd.DataFrame.from_dict(json_array[0])\n",
    "\n",
    "  is_first = True\n",
    "  for array in json_array:\n",
    "    if is_first:\n",
    "      is_first = False\n",
    "      continue\n",
    "    \n",
    "    temp_df = pd.DataFrame.from_dict(array)\n",
    "    result = result.append(temp_df, ignore_index = True)\n",
    "\n",
    "  return result"
   ]
  },
  {
   "cell_type": "code",
   "execution_count": null,
   "metadata": {
    "id": "1epTdHc7_NSh"
   },
   "outputs": [],
   "source": [
    "train = jsonToDf('EmotionLines/Friends/friends_train.json')\n",
    "dev = jsonToDf('EmotionLines/Friends/friends_dev.json')\n",
    "test= jsonToDf('EmotionLines/Friends/friends_test.json')\n",
    "train = train.append(dev, ignore_index = True)\n",
    "\n"
   ]
  },
  {
   "cell_type": "code",
   "execution_count": null,
   "metadata": {
    "id": "awzelXdt4_DC"
   },
   "outputs": [],
   "source": [
    "leader_test = pd.read_csv('/content/drive/MyDrive/en_data.csv', encoding = 'unicode_escape')\n",
    "leader_test.rename(columns = {test.columns[0] : 'id'}, inplace = True)"
   ]
  },
  {
   "cell_type": "code",
   "execution_count": null,
   "metadata": {
    "id": "4rFjVm3nX6f1"
   },
   "outputs": [],
   "source": [
    "a=train.emotion.drop_duplicates()"
   ]
  },
  {
   "cell_type": "code",
   "execution_count": null,
   "metadata": {
    "id": "Ze9GAv3GX6n8"
   },
   "outputs": [],
   "source": [
    "emotion=a.to_list()"
   ]
  },
  {
   "cell_type": "code",
   "execution_count": null,
   "metadata": {
    "colab": {
     "base_uri": "https://localhost:8080/"
    },
    "id": "9V-xPs67g6pB",
    "outputId": "795abc6a-4a4b-46ad-96be-2b1c28d0aaff"
   },
   "outputs": [
    {
     "data": {
      "text/plain": [
       "['neutral',\n",
       " 'surprise',\n",
       " 'fear',\n",
       " 'non-neutral',\n",
       " 'joy',\n",
       " 'sadness',\n",
       " 'anger',\n",
       " 'disgust']"
      ]
     },
     "execution_count": 56,
     "metadata": {
      "tags": []
     },
     "output_type": "execute_result"
    }
   ],
   "source": [
    "emotion"
   ]
  },
  {
   "cell_type": "code",
   "execution_count": null,
   "metadata": {
    "id": "GaioGZ3gX6qx"
   },
   "outputs": [],
   "source": [
    "train = train[['utterance','emotion']]\n",
    "test  = test[['utterance','emotion']]"
   ]
  },
  {
   "cell_type": "code",
   "execution_count": null,
   "metadata": {
    "id": "WxCJ4uvjfNCr"
   },
   "outputs": [],
   "source": [
    "def str_to_ind(train):\n",
    "  ret=[]\n",
    "  for emo in train.emotion:\n",
    "    i=0\n",
    "    for tmp in emotion:\n",
    "      if tmp == emo:\n",
    "        ret.append(i)\n",
    "      i+=1\n",
    "  return pd.DataFrame(ret)"
   ]
  },
  {
   "cell_type": "code",
   "execution_count": null,
   "metadata": {
    "id": "3m55hRcywq0V"
   },
   "outputs": [],
   "source": [
    "def ind_to_str(indlist):\n",
    "  ret=[]\n",
    "  for ind in indlist:\n",
    "    ret.append(emotion[int(ind)])\n",
    "  return pd.DataFrame(ret)"
   ]
  },
  {
   "cell_type": "code",
   "execution_count": null,
   "metadata": {
    "id": "-XIyUNdtfNF_"
   },
   "outputs": [],
   "source": [
    "b=str_to_ind(train)"
   ]
  },
  {
   "cell_type": "code",
   "execution_count": null,
   "metadata": {
    "id": "hFXGZzMvfNIi"
   },
   "outputs": [],
   "source": [
    "train_data=pd.concat([train, b], axis=1, ignore_index=True)\n",
    "test_data=pd.concat([test, b], axis=1, ignore_index=True)\n",
    "train_data=train_data.dropna()\n",
    "test_data=test_data.dropna()"
   ]
  },
  {
   "cell_type": "code",
   "execution_count": null,
   "metadata": {
    "id": "KMq-7rbQfNLC"
   },
   "outputs": [],
   "source": [
    "train_data.columns = ['utterance','emotion','cls']\n",
    "test_data.columns = ['utterance','emotion','cls']"
   ]
  },
  {
   "cell_type": "code",
   "execution_count": null,
   "metadata": {
    "id": "NiAwvO-3fNN9"
   },
   "outputs": [],
   "source": [
    "train_X=train_data ['utterance']\n",
    "test_X=test_data ['utterance']"
   ]
  },
  {
   "cell_type": "code",
   "execution_count": null,
   "metadata": {
    "id": "Pk63-lU5fNQU"
   },
   "outputs": [],
   "source": [
    "train_y=train_data['cls']\n",
    "test_y=test_data['cls']"
   ]
  },
  {
   "cell_type": "markdown",
   "metadata": {},
   "source": [
    "### 토큰 전처리"
   ]
  },
  {
   "cell_type": "code",
   "execution_count": null,
   "metadata": {
    "id": "aHaSNc_fszGN"
   },
   "outputs": [],
   "source": [
    "def tokenize_data(text:str) -> list:\n",
    "    #tokenizer = RegexpTokenizer(\"[\\w']+\")\n",
    "    english_stops = set(stopwords.words('english'))\n",
    "    words=word_tokenize(text)\n",
    "\n",
    "    return [word for word in words if word not in english_stops]\n",
    "    #return [word for word in words ]"
   ]
  },
  {
   "cell_type": "markdown",
   "metadata": {},
   "source": [
    "### 모델 생성 및 결과 도출"
   ]
  },
  {
   "cell_type": "code",
   "execution_count": null,
   "metadata": {
    "id": "zjvBGHMKofAz"
   },
   "outputs": [],
   "source": [
    "pipeline = Pipeline([\n",
    "    ('bow', CountVectorizer(analyzer=tokenize_data)),  # bow로 word2vec\n",
    "    ('tfidf', TfidfTransformer(use_idf=True)),  # weighted TF-IDF scores\n",
    "    ('classifier', MultinomialNB()),  # 나이브베이즈 분류기\n",
    "])"
   ]
  },
  {
   "cell_type": "code",
   "execution_count": null,
   "metadata": {
    "colab": {
     "base_uri": "https://localhost:8080/"
    },
    "id": "nUjRZnsloe9R",
    "outputId": "54a9e4f9-8415-4ae8-8e22-b89df596ed65"
   },
   "outputs": [
    {
     "name": "stdout",
     "output_type": "stream",
     "text": [
      "CPU times: user 1.46 s, sys: 885 µs, total: 1.46 s\n",
      "Wall time: 1.46 s\n"
     ]
    }
   ],
   "source": [
    "%time model_nb = pipeline.fit(train_X, train_y)"
   ]
  },
  {
   "cell_type": "code",
   "execution_count": null,
   "metadata": {
    "id": "yT3YiZl-i6Oy"
   },
   "outputs": [],
   "source": [
    "prediction=model_nb.predict(test_X)"
   ]
  },
  {
   "cell_type": "markdown",
   "metadata": {},
   "source": [
    "### 나이브 베이즈 모델 결과"
   ]
  },
  {
   "cell_type": "code",
   "execution_count": null,
   "metadata": {
    "colab": {
     "base_uri": "https://localhost:8080/"
    },
    "id": "3z4JrXrgi6Lt",
    "outputId": "1b222ee0-73b3-4e6a-f130-ba71eda64607"
   },
   "outputs": [
    {
     "name": "stdout",
     "output_type": "stream",
     "text": [
      "              precision    recall  f1-score   support\n",
      "\n",
      "           0       0.45      0.94      0.60      1240\n",
      "           1       0.09      0.02      0.03       309\n",
      "           2       0.00      0.00      0.00        51\n",
      "           3       0.18      0.03      0.05       521\n",
      "           4       0.11      0.00      0.01       350\n",
      "           5       0.00      0.00      0.00        93\n",
      "           6       0.00      0.00      0.00       141\n",
      "           7       0.00      0.00      0.00        59\n",
      "\n",
      "    accuracy                           0.43      2764\n",
      "   macro avg       0.10      0.12      0.09      2764\n",
      "weighted avg       0.26      0.43      0.28      2764\n",
      "\n"
     ]
    },
    {
     "name": "stderr",
     "output_type": "stream",
     "text": [
      "/usr/local/lib/python3.6/dist-packages/sklearn/metrics/_classification.py:1272: UndefinedMetricWarning: Precision and F-score are ill-defined and being set to 0.0 in labels with no predicted samples. Use `zero_division` parameter to control this behavior.\n",
      "  _warn_prf(average, modifier, msg_start, len(result))\n"
     ]
    }
   ],
   "source": [
    "print (classification_report(test_y, prediction))"
   ]
  },
  {
   "cell_type": "code",
   "execution_count": null,
   "metadata": {
    "id": "HmwYq6VOi6JN"
   },
   "outputs": [],
   "source": [
    "pipeline_randomforest=Pipeline([\n",
    "            ('bow', CountVectorizer(tokenizer=tokenize_data, ngram_range=(1,2))),\n",
    "            ('tfidf', TfidfTransformer(use_idf=False)),\n",
    "            ('classifier', RandomForestClassifier(n_estimators=100, oob_score=True))\n",
    "            ])"
   ]
  },
  {
   "cell_type": "code",
   "execution_count": null,
   "metadata": {
    "colab": {
     "base_uri": "https://localhost:8080/"
    },
    "id": "CyklvAeFi6CU",
    "outputId": "e5fb7346-c548-44f7-f1c3-d552a4fc121a"
   },
   "outputs": [
    {
     "name": "stdout",
     "output_type": "stream",
     "text": [
      "CPU times: user 55.7 s, sys: 122 ms, total: 55.8 s\n",
      "Wall time: 55.8 s\n"
     ]
    }
   ],
   "source": [
    "%time model_randomforest = pipeline_randomforest.fit(train_X, train_y)"
   ]
  },
  {
   "cell_type": "code",
   "execution_count": null,
   "metadata": {
    "id": "y_GsYIb4i526"
   },
   "outputs": [],
   "source": [
    "prediction_randomforest=model_randomforest.predict(test_X)"
   ]
  },
  {
   "cell_type": "markdown",
   "metadata": {},
   "source": [
    "### 랜덤포레스트 모델 결과"
   ]
  },
  {
   "cell_type": "code",
   "execution_count": null,
   "metadata": {
    "colab": {
     "base_uri": "https://localhost:8080/"
    },
    "id": "dhI9WxPUlIQ6",
    "outputId": "23274e99-80ca-4e14-b1dc-962b64809bef"
   },
   "outputs": [
    {
     "name": "stdout",
     "output_type": "stream",
     "text": [
      "              precision    recall  f1-score   support\n",
      "\n",
      "           0       0.44      0.68      0.54      1240\n",
      "           1       0.11      0.09      0.10       309\n",
      "           2       0.00      0.00      0.00        51\n",
      "           3       0.19      0.09      0.12       521\n",
      "           4       0.11      0.09      0.10       350\n",
      "           5       0.00      0.00      0.00        93\n",
      "           6       0.04      0.01      0.01       141\n",
      "           7       0.00      0.00      0.00        59\n",
      "\n",
      "    accuracy                           0.35      2764\n",
      "   macro avg       0.11      0.12      0.11      2764\n",
      "weighted avg       0.26      0.35      0.29      2764\n",
      "\n"
     ]
    }
   ],
   "source": [
    "print (classification_report(test_y, prediction_randomforest))"
   ]
  },
  {
   "cell_type": "code",
   "execution_count": null,
   "metadata": {
    "id": "SlCsdaIHlIOf"
   },
   "outputs": [],
   "source": [
    "pipeline_gdboost=Pipeline([\n",
    "            ('bow', CountVectorizer(tokenizer=tokenize_data)),\n",
    "            ('tfidf', TfidfTransformer(use_idf=True)),\n",
    "            ('classifier', GradientBoostingClassifier(random_state=0, max_depth=3, learning_rate=0.1))\n",
    "            ])"
   ]
  },
  {
   "cell_type": "code",
   "execution_count": null,
   "metadata": {
    "colab": {
     "base_uri": "https://localhost:8080/"
    },
    "id": "MO8stryLlIMA",
    "outputId": "28e6f74b-7b18-4460-8e10-ee7f5e4589b7"
   },
   "outputs": [
    {
     "name": "stdout",
     "output_type": "stream",
     "text": [
      "CPU times: user 30.2 s, sys: 31 ms, total: 30.3 s\n",
      "Wall time: 30.3 s\n"
     ]
    }
   ],
   "source": [
    "%time model_gdboost = pipeline_gdboost.fit(train_X, train_y)"
   ]
  },
  {
   "cell_type": "code",
   "execution_count": null,
   "metadata": {
    "id": "nbkt-_CDlIIs"
   },
   "outputs": [],
   "source": [
    "prediction_gdboost=model_gdboost.predict(test_X)"
   ]
  },
  {
   "cell_type": "markdown",
   "metadata": {},
   "source": [
    "### 그라디언트 부스트 모델 결과"
   ]
  },
  {
   "cell_type": "code",
   "execution_count": null,
   "metadata": {
    "colab": {
     "base_uri": "https://localhost:8080/"
    },
    "id": "CaIAG_VulIDW",
    "outputId": "9c60c1fe-a717-42df-d559-b80a85d21c1b"
   },
   "outputs": [
    {
     "name": "stdout",
     "output_type": "stream",
     "text": [
      "              precision    recall  f1-score   support\n",
      "\n",
      "           0       0.45      0.63      0.52      1240\n",
      "           1       0.10      0.06      0.08       309\n",
      "           2       0.00      0.00      0.00        51\n",
      "           3       0.19      0.15      0.17       521\n",
      "           4       0.11      0.09      0.10       350\n",
      "           5       0.03      0.01      0.02        93\n",
      "           6       0.03      0.01      0.01       141\n",
      "           7       0.02      0.02      0.02        59\n",
      "\n",
      "    accuracy                           0.33      2764\n",
      "   macro avg       0.12      0.12      0.11      2764\n",
      "weighted avg       0.27      0.33      0.29      2764\n",
      "\n"
     ]
    }
   ],
   "source": [
    "print (classification_report(test_y, prediction_gdboost))"
   ]
  },
  {
   "cell_type": "code",
   "execution_count": null,
   "metadata": {
    "id": "SSii6AHVlH_0"
   },
   "outputs": [],
   "source": [
    "pipeline_logistic=Pipeline([\n",
    "            ('bow', CountVectorizer(tokenizer=tokenize_data)),\n",
    "            ('tfidf', TfidfTransformer(use_idf=False)),\n",
    "            ('classifier', LogisticRegression(solver='newton-cg'))\n",
    "            ])"
   ]
  },
  {
   "cell_type": "code",
   "execution_count": null,
   "metadata": {
    "colab": {
     "base_uri": "https://localhost:8080/"
    },
    "id": "Ph29Iz2QlH8y",
    "outputId": "7c2b2ff3-f5b9-46be-f3a2-20d7166d5216"
   },
   "outputs": [
    {
     "name": "stdout",
     "output_type": "stream",
     "text": [
      "CPU times: user 4.56 s, sys: 5.98 s, total: 10.5 s\n",
      "Wall time: 3.82 s\n"
     ]
    }
   ],
   "source": [
    "%time model_logistic = pipeline_logistic.fit(train_X, train_y)"
   ]
  },
  {
   "cell_type": "code",
   "execution_count": null,
   "metadata": {
    "id": "XD4qVEWHlsig"
   },
   "outputs": [],
   "source": [
    "prediction_logistic=model_logistic.predict(test_X)"
   ]
  },
  {
   "cell_type": "markdown",
   "metadata": {},
   "source": [
    "### 로지스틱 리그레션 모델 결과"
   ]
  },
  {
   "cell_type": "code",
   "execution_count": null,
   "metadata": {
    "colab": {
     "base_uri": "https://localhost:8080/"
    },
    "id": "O1rZPhQUlslc",
    "outputId": "4a53acd8-f09d-4087-ffab-536489c9458f"
   },
   "outputs": [
    {
     "name": "stdout",
     "output_type": "stream",
     "text": [
      "              precision    recall  f1-score   support\n",
      "\n",
      "           0       0.45      0.65      0.53      1240\n",
      "           1       0.12      0.09      0.10       309\n",
      "           2       0.00      0.00      0.00        51\n",
      "           3       0.19      0.13      0.16       521\n",
      "           4       0.10      0.09      0.10       350\n",
      "           5       0.00      0.00      0.00        93\n",
      "           6       0.06      0.01      0.02       141\n",
      "           7       0.00      0.00      0.00        59\n",
      "\n",
      "    accuracy                           0.34      2764\n",
      "   macro avg       0.11      0.12      0.11      2764\n",
      "weighted avg       0.26      0.34      0.29      2764\n",
      "\n"
     ]
    },
    {
     "name": "stderr",
     "output_type": "stream",
     "text": [
      "/usr/local/lib/python3.6/dist-packages/sklearn/metrics/_classification.py:1272: UndefinedMetricWarning: Precision and F-score are ill-defined and being set to 0.0 in labels with no predicted samples. Use `zero_division` parameter to control this behavior.\n",
      "  _warn_prf(average, modifier, msg_start, len(result))\n"
     ]
    }
   ],
   "source": [
    "print (classification_report(test_y, prediction_logistic))"
   ]
  },
  {
   "cell_type": "code",
   "execution_count": null,
   "metadata": {
    "id": "PAK8pMv3lsoD"
   },
   "outputs": [],
   "source": [
    "def one_hot_result (result):\n",
    "    ret=[]\n",
    "    for i in result:\n",
    "        onehot=[0,0,0,0,0,0,0,0]\n",
    "        onehot[i]=1\n",
    "        ret.append(onehot)\n",
    "    return ret"
   ]
  },
  {
   "cell_type": "code",
   "execution_count": null,
   "metadata": {
    "id": "A2Utn7XpnXm2"
   },
   "outputs": [],
   "source": [
    "tot_onehot=np.array(one_hot_result(prediction))+np.array(one_hot_result(prediction_logistic)) +np.array(one_hot_result(prediction_randomforest))+np.array(one_hot_result(prediction_gdboost))"
   ]
  },
  {
   "cell_type": "code",
   "execution_count": null,
   "metadata": {
    "id": "O4_M38aEnXYL"
   },
   "outputs": [],
   "source": [
    "tot_result=np.argmax(tot_onehot, axis=1)"
   ]
  },
  {
   "cell_type": "code",
   "execution_count": null,
   "metadata": {
    "colab": {
     "base_uri": "https://localhost:8080/"
    },
    "id": "OPjvj8XBoLDQ",
    "outputId": "9df0254f-a14b-4f91-c79a-2da123d2c35f"
   },
   "outputs": [
    {
     "data": {
      "text/plain": [
       "array([0, 0, 0, ..., 4, 0, 0])"
      ]
     },
     "execution_count": 129,
     "metadata": {
      "tags": []
     },
     "output_type": "execute_result"
    }
   ],
   "source": [
    "tot_result"
   ]
  },
  {
   "cell_type": "markdown",
   "metadata": {},
   "source": [
    "### 모델 VOTING 결과"
   ]
  },
  {
   "cell_type": "code",
   "execution_count": null,
   "metadata": {
    "colab": {
     "base_uri": "https://localhost:8080/"
    },
    "id": "0HSfd-SkoK2V",
    "outputId": "f7eb2dc9-4225-4e25-90d5-340e5316d158"
   },
   "outputs": [],
   "source": [
    "print (classification_report(test_y, tot_result))"
   ]
  },
  {
   "cell_type": "markdown",
   "metadata": {},
   "source": [
    "              precision    recall  f1-score   support\n",
    "\n",
    "           0       0.45      0.72      0.55      1240\n",
    "           1       0.11      0.06      0.08       309\n",
    "           2       0.00      0.00      0.00        51\n",
    "           3       0.19      0.10      0.14       521\n",
    "           4       0.11      0.08      0.09       350\n",
    "           5       0.00      0.00      0.00        93\n",
    "           6       0.00      0.00      0.00       141\n",
    "           7       0.00      0.00      0.00        59\n",
    "\n",
    "    accuracy                           0.36      2764\n",
    "   macro avg       0.11      0.12      0.11      2764\n",
    "weighted avg       0.26      0.36      0.29      2764\n"
   ]
  },
  {
   "cell_type": "markdown",
   "metadata": {},
   "source": [
    "### 평가 파일 생성"
   ]
  },
  {
   "cell_type": "code",
   "execution_count": null,
   "metadata": {
    "id": "_GLw1XlXudYk"
   },
   "outputs": [],
   "source": [
    "leader_test= leader_test.utterance"
   ]
  },
  {
   "cell_type": "code",
   "execution_count": null,
   "metadata": {
    "id": "blHTP5NkvMky"
   },
   "outputs": [],
   "source": [
    "result1= model_nb.predict(leader_test)\n",
    "result2= model_logistic.predict(leader_test)\n",
    "result3= model_randomforest.predict(leader_test)\n",
    "result4= model_gdboost.predict(leader_test)\n",
    "\n",
    "tot_result_onehot=np.array(one_hot_result(result1))+np.array(one_hot_result(result2)) +np.array(one_hot_result(result3))+np.array(one_hot_result(result4))"
   ]
  },
  {
   "cell_type": "code",
   "execution_count": null,
   "metadata": {
    "id": "SHmrZDWrvSus"
   },
   "outputs": [],
   "source": [
    "tot_result_leader=np.argmax(tot_result_onehot, axis=1)"
   ]
  },
  {
   "cell_type": "code",
   "execution_count": null,
   "metadata": {
    "colab": {
     "base_uri": "https://localhost:8080/"
    },
    "id": "A96SGylkvqSF",
    "outputId": "e72527a1-2521-4413-acba-6fe8911f804f"
   },
   "outputs": [
    {
     "data": {
      "text/plain": [
       "1623"
      ]
     },
     "execution_count": 138,
     "metadata": {
      "tags": []
     },
     "output_type": "execute_result"
    }
   ],
   "source": [
    "len(tot_result_leader)"
   ]
  },
  {
   "cell_type": "code",
   "execution_count": null,
   "metadata": {
    "id": "pge9v7f6vrhw"
   },
   "outputs": [],
   "source": [
    "predict_leader=ind_to_str(tot_result_leader)"
   ]
  },
  {
   "cell_type": "code",
   "execution_count": null,
   "metadata": {
    "colab": {
     "base_uri": "https://localhost:8080/",
     "height": 402
    },
    "id": "P_t9uGq_xEaE",
    "outputId": "505309cf-a4db-4c21-f988-658f796d61d1"
   },
   "outputs": [
    {
     "data": {
      "text/html": [
       "<div>\n",
       "<style scoped>\n",
       "    .dataframe tbody tr th:only-of-type {\n",
       "        vertical-align: middle;\n",
       "    }\n",
       "\n",
       "    .dataframe tbody tr th {\n",
       "        vertical-align: top;\n",
       "    }\n",
       "\n",
       "    .dataframe thead th {\n",
       "        text-align: right;\n",
       "    }\n",
       "</style>\n",
       "<table border=\"1\" class=\"dataframe\">\n",
       "  <thead>\n",
       "    <tr style=\"text-align: right;\">\n",
       "      <th></th>\n",
       "      <th>0</th>\n",
       "    </tr>\n",
       "  </thead>\n",
       "  <tbody>\n",
       "    <tr>\n",
       "      <th>0</th>\n",
       "      <td>neutral</td>\n",
       "    </tr>\n",
       "    <tr>\n",
       "      <th>1</th>\n",
       "      <td>surprise</td>\n",
       "    </tr>\n",
       "    <tr>\n",
       "      <th>2</th>\n",
       "      <td>neutral</td>\n",
       "    </tr>\n",
       "    <tr>\n",
       "      <th>3</th>\n",
       "      <td>neutral</td>\n",
       "    </tr>\n",
       "    <tr>\n",
       "      <th>4</th>\n",
       "      <td>non-neutral</td>\n",
       "    </tr>\n",
       "    <tr>\n",
       "      <th>...</th>\n",
       "      <td>...</td>\n",
       "    </tr>\n",
       "    <tr>\n",
       "      <th>1618</th>\n",
       "      <td>neutral</td>\n",
       "    </tr>\n",
       "    <tr>\n",
       "      <th>1619</th>\n",
       "      <td>joy</td>\n",
       "    </tr>\n",
       "    <tr>\n",
       "      <th>1620</th>\n",
       "      <td>neutral</td>\n",
       "    </tr>\n",
       "    <tr>\n",
       "      <th>1621</th>\n",
       "      <td>neutral</td>\n",
       "    </tr>\n",
       "    <tr>\n",
       "      <th>1622</th>\n",
       "      <td>joy</td>\n",
       "    </tr>\n",
       "  </tbody>\n",
       "</table>\n",
       "<p>1623 rows × 1 columns</p>\n",
       "</div>"
      ],
      "text/plain": [
       "                0\n",
       "0         neutral\n",
       "1        surprise\n",
       "2         neutral\n",
       "3         neutral\n",
       "4     non-neutral\n",
       "...           ...\n",
       "1618      neutral\n",
       "1619          joy\n",
       "1620      neutral\n",
       "1621      neutral\n",
       "1622          joy\n",
       "\n",
       "[1623 rows x 1 columns]"
      ]
     },
     "execution_count": 142,
     "metadata": {
      "tags": []
     },
     "output_type": "execute_result"
    }
   ],
   "source": [
    "predict_leader"
   ]
  },
  {
   "cell_type": "code",
   "execution_count": null,
   "metadata": {
    "id": "vq38uc1tuop-"
   },
   "outputs": [],
   "source": [
    "predict_leader.rename(columns = {'0' : 'Id'}, inplace = True)"
   ]
  },
  {
   "cell_type": "code",
   "execution_count": null,
   "metadata": {
    "id": "idJFHwkmxE_a"
   },
   "outputs": [],
   "source": [
    "import csv\n",
    "f = open('/content/drive/MyDrive/sample_eng_nb.csv','a', newline='')\n",
    "wr = csv.writer(f)\n",
    "wr.writerow(['Id','Expected'])\n",
    "for i in range(len(predict_leader)):\n",
    "  wr.writerow([i,predict_leader[0][i]])\n",
    "f.close()"
   ]
  },
  {
   "cell_type": "markdown",
   "metadata": {
    "id": "O32_wFp-v9Ys"
   },
   "source": [
    "### 캐글 점수 0.44882"
   ]
  },
  {
   "cell_type": "code",
   "execution_count": null,
   "metadata": {},
   "outputs": [],
   "source": []
  }
 ],
 "metadata": {
  "accelerator": "GPU",
  "colab": {
   "collapsed_sections": [],
   "machine_shape": "hm",
   "name": "nb_eng.ipynb",
   "provenance": []
  },
  "kernelspec": {
   "display_name": "Python 3",
   "language": "python",
   "name": "python3"
  },
  "language_info": {
   "codemirror_mode": {
    "name": "ipython",
    "version": 3
   },
   "file_extension": ".py",
   "mimetype": "text/x-python",
   "name": "python",
   "nbconvert_exporter": "python",
   "pygments_lexer": "ipython3",
   "version": "3.7.4"
  }
 },
 "nbformat": 4,
 "nbformat_minor": 1
}
